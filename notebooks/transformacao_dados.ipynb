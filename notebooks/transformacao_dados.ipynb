{
 "cells": [
  {
   "cell_type": "markdown",
   "metadata": {
    "colab_type": "text",
    "id": "We-h7jDfVi7S"
   },
   "source": [
    "# Transformação da Base de Dados\n",
    "\n",
    "- pandas"
   ]
  },
  {
   "cell_type": "code",
   "execution_count": 29,
   "metadata": {
    "colab": {},
    "colab_type": "code",
    "id": "B9bo37H4su40"
   },
   "outputs": [],
   "source": [
    "import pandas as pd"
   ]
  },
  {
   "cell_type": "code",
   "execution_count": 3,
   "metadata": {
    "colab": {},
    "colab_type": "code",
    "id": "QhqnTTH7tuOv"
   },
   "outputs": [],
   "source": [
    "d2019 = pd.read_excel(\"http://svs.aids.gov.br/download/Vigitel/Vigitel-2019-peso-rake.xls\")"
   ]
  },
  {
   "cell_type": "code",
   "execution_count": 4,
   "metadata": {},
   "outputs": [],
   "source": [
    "d2018 = pd.read_excel(\"http://svs.aids.gov.br/download/Vigitel/Vigitel-2018-peso-rake.xls\")"
   ]
  },
  {
   "cell_type": "code",
   "execution_count": 5,
   "metadata": {},
   "outputs": [],
   "source": [
    "d2017 = pd.read_excel(\"http://svs.aids.gov.br/download/Vigitel/Vigitel-2017-peso-rake.xls\")"
   ]
  },
  {
   "cell_type": "code",
   "execution_count": 6,
   "metadata": {},
   "outputs": [],
   "source": [
    "d2016 = pd.read_excel(\"http://svs.aids.gov.br/download/Vigitel/Vigitel-2016-peso-rake.xls\")"
   ]
  },
  {
   "cell_type": "code",
   "execution_count": 7,
   "metadata": {},
   "outputs": [],
   "source": [
    "d2015 = pd.read_excel(\"http://svs.aids.gov.br/download/Vigitel/Vigitel-2015-peso-rake.xls\")"
   ]
  },
  {
   "cell_type": "code",
   "execution_count": 8,
   "metadata": {},
   "outputs": [],
   "source": [
    "d2014 = pd.read_excel(\"http://svs.aids.gov.br/download/Vigitel/Vigitel-2014-peso-rake.xls\")"
   ]
  },
  {
   "cell_type": "code",
   "execution_count": 9,
   "metadata": {},
   "outputs": [],
   "source": [
    "d2013 = pd.read_excel(\"http://svs.aids.gov.br/download/Vigitel/Vigitel-2013-peso-rake.xls\")"
   ]
  },
  {
   "cell_type": "code",
   "execution_count": 10,
   "metadata": {},
   "outputs": [],
   "source": [
    "d2012 = pd.read_excel(\"http://svs.aids.gov.br/download/Vigitel/Vigitel-2012-peso-rake.xls\")"
   ]
  },
  {
   "cell_type": "code",
   "execution_count": 11,
   "metadata": {},
   "outputs": [],
   "source": [
    "d2011 = pd.read_excel(\"http://svs.aids.gov.br/download/Vigitel/Vigitel-2011-peso-rake.xls\")"
   ]
  },
  {
   "cell_type": "code",
   "execution_count": 12,
   "metadata": {},
   "outputs": [],
   "source": [
    "d2010 = pd.read_excel(\"http://svs.aids.gov.br/download/Vigitel/Vigitel-2010-peso-rake.xls\")"
   ]
  },
  {
   "cell_type": "code",
   "execution_count": 13,
   "metadata": {},
   "outputs": [],
   "source": [
    "d2009 = pd.read_excel(\"http://svs.aids.gov.br/download/Vigitel/Vigitel-2009-peso-rake.xls\")"
   ]
  },
  {
   "cell_type": "code",
   "execution_count": 14,
   "metadata": {},
   "outputs": [],
   "source": [
    "d2008 = pd.read_excel(\"http://svs.aids.gov.br/download/Vigitel/Vigitel-2008-peso-rake.xls\")"
   ]
  },
  {
   "cell_type": "code",
   "execution_count": 15,
   "metadata": {},
   "outputs": [],
   "source": [
    "d2007 = pd.read_excel(\"http://svs.aids.gov.br/download/Vigitel/Vigitel-2007-peso-rake.xls\")"
   ]
  },
  {
   "cell_type": "markdown",
   "metadata": {},
   "source": [
    "## Transformação dos nomes das colunas e extração"
   ]
  },
  {
   "cell_type": "code",
   "execution_count": 16,
   "metadata": {},
   "outputs": [],
   "source": [
    "alt_selected_columns = ['ano','cidade', 'q6', 'q7', 'q8a', 'q9', 'q11', 'q16','q27','q29','q35','q42','q45','q46','q48','q49','q60','q69','q74','q75','q76']\n",
    "selected_columns = ['ano','cidade', 'q6', 'q7', 'q8a', 'q9', 'q11', 'q16','q27','q29','q35','q42','q45','q46','q48','q49','q60','q69','q74','q75','q76','r202','r900']\n",
    "column_names = ['ano','cidade','idade','sexo','grau_escolaridade','peso','altura','freq_horta','freq_fruta','freq_refri','bebida_alcoolica','exercicio_fisico','freq_exercicio','duracao_exercicio','anda_pe_bastante','carrega_peso','fumante','cor','estado_saude','pressao_alta','diabetes','idade_inicio_diabetes','recebe_bolsa_familia']\n",
    "alt_column_names = ['ano','cidade','idade','sexo','grau_escolaridade','peso','altura','freq_horta','freq_fruta','freq_refri','bebida_alcoolica','exercicio_fisico','freq_exercicio','duracao_exercicio','anda_pe_bastante','carrega_peso','fumante','cor','estado_saude','pressao_alta','diabetes']\n",
    "\n",
    "#Dataframe 2019 doesn't possess columns: ['q24', 'q21', 'q78', 'r143', 'q23', 'q22', 'q32'] \n",
    "df_2019 = d2019[selected_columns]\n",
    "df_2019.columns = column_names\n",
    "\n",
    "df_2018 = d2018[selected_columns]\n",
    "df_2018.columns = column_names\n",
    "\n",
    "df_2017 = d2017[selected_columns]\n",
    "df_2017.columns = column_names\n",
    "\n",
    "df_2016 = d2016[selected_columns]\n",
    "df_2016.columns = column_names\n",
    "\n",
    "#Dataframe 2015 doesn't have data for 'r900' -recebe bolsa familia\n",
    "df_2015 = d2015[['ano','cidade', 'q6', 'q7', 'q8a', 'q9', 'q11', 'q16','q27','q29','q35','q42','q45','q46','q48','q49','q60','q69','q74','q75','q76','r202']]\n",
    "df_2015.columns = ['ano','cidade','idade','sexo','grau_escolaridade','peso','altura','freq_horta','freq_fruta','freq_refri','bebida_alcoolica','exercicio_fisico','freq_exercicio','duracao_exercicio','anda_pe_bastante','carrega_peso','fumante','cor','estado_saude','pressao_alta','diabetes','idade_inicio_diabetes']\n",
    "\n",
    "#Dataframe 2014 changed column code 'q76' to 'q76a' only in this dataframe. \n",
    "#It also doesn't have data for 'r202' -recebe bolsa familia and 'r900' -idade inicio de diabetes\n",
    "df_2014 = d2014[['ano','cidade', 'q6', 'q7', 'q8a', 'q9', 'q11', 'q16','q27','q29','q35','q42','q45','q46','q48','q49','q60','q69','q74','q75','q76a']]\n",
    "df_2014.columns = alt_column_names\n",
    "\n",
    "#Dataframe 2013 doesn't have data for 'r900' -recebe bolsa familia and 'r202' -idade inicio de diabetes\n",
    "df_2013 = d2013[['ano','cidade', 'q6', 'q7', 'q8a', 'q9', 'q11', 'q16','q27','q29','q35','q42','q45','q46','q48','q49','q60','q69','q74','q75','q76']]\n",
    "df_2013.columns = alt_column_names\n",
    "\n",
    "#Dataframe 2012 doesn't have data for 'r900' -recebe bolsa familia and 'r202' -idade inicio de diabetes\n",
    "df_2012 = d2012[alt_selected_columns]\n",
    "df_2012.columns = alt_column_names\n",
    "\n",
    "#Dataframe 2011 doesn't have data for 'r900' -recebe bolsa familia and 'r202' -idade inicio de diabetes\n",
    "df_2011 = d2011[alt_selected_columns]\n",
    "df_2011.columns = alt_column_names\n",
    "\n",
    "#Dataframe 2010 doesn't have data for 'r900' -recebe bolsa familia and 'r202' -idade inicio de diabetes\n",
    "df_2010 = d2010[alt_selected_columns]\n",
    "df_2010.columns = alt_column_names\n",
    "\n",
    "#Dataframe 2009 doesn't have data for 'r900' -recebe bolsa familia and 'r202' -idade inicio de diabetes\n",
    "df_2009 = d2009[alt_selected_columns]\n",
    "df_2009.columns = alt_column_names\n",
    "\n",
    "#Dataframe 2008 doesn't have data for 'r900' -recebe bolsa familia and 'r202' -idade inicio de diabetes\n",
    "df_2008 = d2008[alt_selected_columns]\n",
    "df_2008.columns = alt_column_names\n",
    "\n",
    "#Dataframe 2008 doesn't have data for 'r900' -recebe bolsa familia and 'r202' -idade inicio de diabetes\n",
    "df_2007 = d2007[alt_selected_columns]\n",
    "df_2007.columns = alt_column_names\n",
    "\n",
    "#Salvar o *.csv\n",
    "df_2019.to_csv('2019.csv', sep=';')\n",
    "df_2018.to_csv('2018.csv', sep=';')\n",
    "df_2017.to_csv('2017.csv', sep=';')\n",
    "df_2016.to_csv('2016.csv', sep=';')\n",
    "df_2015.to_csv('2015.csv', sep=';')\n",
    "df_2014.to_csv('2014.csv', sep=';')\n",
    "df_2013.to_csv('2013.csv', sep=';')\n",
    "df_2012.to_csv('2012.csv', sep=';')\n",
    "df_2011.to_csv('2011.csv', sep=';')\n",
    "df_2010.to_csv('2010.csv', sep=';')\n",
    "df_2009.to_csv('2009.csv', sep=';')\n",
    "df_2008.to_csv('2008.csv', sep=';')\n",
    "df_2007.to_csv('2007.csv', sep=';')"
   ]
  },
  {
   "cell_type": "code",
   "execution_count": 30,
   "metadata": {
    "scrolled": true
   },
   "outputs": [
    {
     "name": "stderr",
     "output_type": "stream",
     "text": [
      "C:\\Users\\joaoi\\Anaconda3\\lib\\site-packages\\ipykernel_launcher.py:2: FutureWarning:\n",
      "\n",
      "Sorting because non-concatenation axis is not aligned. A future version\n",
      "of pandas will change to not sort by default.\n",
      "\n",
      "To accept the future behavior, pass 'sort=False'.\n",
      "\n",
      "To retain the current behavior and silence the warning, pass 'sort=True'.\n",
      "\n",
      "\n"
     ]
    }
   ],
   "source": [
    "temp_df = [df_2007, df_2008, df_2009, df_2010, df_2011, df_2012, df_2013, df_2014, df_2015, df_2016, df_2017, df_2018, df_2019]\n",
    "df_total = pd.concat(temp_df)"
   ]
  },
  {
   "cell_type": "code",
   "execution_count": 18,
   "metadata": {},
   "outputs": [],
   "source": [
    "df_total.to_csv('total.csv',sep=';')"
   ]
  }
 ],
 "metadata": {
  "colab": {
   "collapsed_sections": [],
   "name": "Untitled3.ipynb",
   "provenance": []
  },
  "kernelspec": {
   "display_name": "Python 3",
   "language": "python",
   "name": "python3"
  },
  "language_info": {
   "codemirror_mode": {
    "name": "ipython",
    "version": 3
   },
   "file_extension": ".py",
   "mimetype": "text/x-python",
   "name": "python",
   "nbconvert_exporter": "python",
   "pygments_lexer": "ipython3",
   "version": "3.7.4"
  }
 },
 "nbformat": 4,
 "nbformat_minor": 4
}
